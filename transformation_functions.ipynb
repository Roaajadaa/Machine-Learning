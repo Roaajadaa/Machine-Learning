{
 "cells": [
  {
   "cell_type": "code",
   "execution_count": 5,
   "id": "4492d1b5",
   "metadata": {},
   "outputs": [],
   "source": [
    "import numpy as np"
   ]
  },
  {
   "cell_type": "code",
   "execution_count": 6,
   "id": "8763d19a",
   "metadata": {},
   "outputs": [],
   "source": [
    "def Reciprocal_transformation (feature_to_tranforme) :\n",
    "    feature_Reciprocal_transformation =   1 / feature_to_tranforme\n",
    "    return feature_Reciprocal_transformation "
   ]
  },
  {
   "cell_type": "code",
   "execution_count": 7,
   "id": "5c71d700",
   "metadata": {},
   "outputs": [],
   "source": [
    "def square_root_transformation (feature_to_tranforme) :\n",
    "    feature_square_root_transformation = feature_to_tranforme**(1/2)\n",
    "    return feature_square_root_transformation "
   ]
  },
  {
   "cell_type": "code",
   "execution_count": 8,
   "id": "08fa4d29",
   "metadata": {},
   "outputs": [],
   "source": [
    "def log_transformation(feature_to_transform):\n",
    "    return np.log(feature_to_transform)"
   ]
  },
  {
   "cell_type": "code",
   "execution_count": null,
   "id": "a098fc26",
   "metadata": {},
   "outputs": [],
   "source": []
  }
 ],
 "metadata": {
  "kernelspec": {
   "display_name": "Python 3 (ipykernel)",
   "language": "python",
   "name": "python3"
  },
  "language_info": {
   "codemirror_mode": {
    "name": "ipython",
    "version": 3
   },
   "file_extension": ".py",
   "mimetype": "text/x-python",
   "name": "python",
   "nbconvert_exporter": "python",
   "pygments_lexer": "ipython3",
   "version": "3.9.18"
  }
 },
 "nbformat": 4,
 "nbformat_minor": 5
}
